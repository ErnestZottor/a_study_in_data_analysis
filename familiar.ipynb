{
 "cells": [
  {
   "cell_type": "code",
   "execution_count": 1,
   "id": "9c58109b",
   "metadata": {},
   "outputs": [],
   "source": [
    "import familiar\n",
    "from scipy.stats import ttest_1samp, ttest_ind, chi2_contingency\n"
   ]
  },
  {
   "cell_type": "code",
   "execution_count": 2,
   "id": "a14634c3",
   "metadata": {},
   "outputs": [
    {
     "name": "stdout",
     "output_type": "stream",
     "text": [
      "0.0000000003\n",
      "The Vein Pack Is Proven To Make You Live Longer!\n"
     ]
    }
   ],
   "source": [
    "\n",
    "vein_pack_lifespans = familiar.lifespans(package='vein')\n",
    "\n",
    "vein_pack_test = ttest_1samp(vein_pack_lifespans, 71)\n",
    "print(format(vein_pack_test.pvalue, '0.10f'))\n",
    "\n",
    "if vein_pack_test.pvalue < 0.05:\n",
    "    print('The Vein Pack Is Proven To Make You Live Longer!')\n",
    "else:\n",
    "    print('The Vein Pack Is Probably Good For You Somehow!')\n",
    "\n",
    "artery_pack_lifespans = familiar.lifespans(package='artery')\n",
    "package_comparison_results = ttest_ind(vein_pack_lifespans,artery_pack_lifespans)\n",
    "\n",
    "  \n",
    "\n"
   ]
  },
  {
   "cell_type": "code",
   "execution_count": 3,
   "id": "5199dfd1",
   "metadata": {},
   "outputs": [
    {
     "name": "stdout",
     "output_type": "stream",
     "text": [
      "the Artery Package is also a great product!\n"
     ]
    }
   ],
   "source": [
    "\n",
    "if package_comparison_results.pvalue < 0.05:\n",
    "    print('the Artery Package guarantees even stronger results!')\n",
    "else:\n",
    "    print('the Artery Package is also a great product!')\n"
   ]
  },
  {
   "cell_type": "code",
   "execution_count": 4,
   "id": "ce312977",
   "metadata": {},
   "outputs": [
    {
     "name": "stdout",
     "output_type": "stream",
     "text": [
      "[[140, 29], [40, 87], [20, 29]]\n",
      "The Artery Package Is Proven To Make You Healthier!\n"
     ]
    }
   ],
   "source": [
    "\n",
    "iron_contingency_table = familiar.iron_counts_for_package()\n",
    "print(iron_contingency_table)\n",
    "_, iron_pvalue, _, _ = chi2_contingency(iron_contingency_table)\n",
    "\n",
    "if iron_pvalue < 0.05:\n",
    "    print('The Artery Package Is Proven To Make You Healthier!')\n",
    "else:\n",
    "    print(\"While We Can’t Say The Artery Package Will Help You, I Bet It’s Nice!\")\n"
   ]
  },
  {
   "cell_type": "code",
   "execution_count": null,
   "id": "c5ce61b7",
   "metadata": {},
   "outputs": [],
   "source": []
  }
 ],
 "metadata": {
  "kernelspec": {
   "display_name": "Python 3",
   "language": "python",
   "name": "python3"
  },
  "language_info": {
   "codemirror_mode": {
    "name": "ipython",
    "version": 3
   },
   "file_extension": ".py",
   "mimetype": "text/x-python",
   "name": "python",
   "nbconvert_exporter": "python",
   "pygments_lexer": "ipython3",
   "version": "3.8.8"
  }
 },
 "nbformat": 4,
 "nbformat_minor": 5
}
